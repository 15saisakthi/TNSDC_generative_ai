{
 "cells": [
  {
   "cell_type": "code",
   "execution_count": 3,
   "id": "a58816dd",
   "metadata": {},
   "outputs": [
    {
     "name": "stdout",
     "output_type": "stream",
     "text": [
      "New Paragraph: This is another paragraph discussing deep learning and artificial intelligence.\n",
      "Predicted Title: Machine Learning Algorithms\n"
     ]
    }
   ],
   "source": [
    "from sklearn.feature_extraction.text import TfidfVectorizer\n",
    "from sklearn.preprocessing import LabelEncoder\n",
    "from sklearn.linear_model import LinearRegression\n",
    "import numpy as np\n",
    "\n",
    "# Sample data\n",
    "paragraphs = [\n",
    "    \"Deep learning models have shown remarkable capabilities in various domains.\",\n",
    "    \"Natural Language Processing (NLP) techniques are essential for text analysis.\",\n",
    "    \"Machine learning algorithms can be applied to a wide range of problems.\",\n",
    "    \"Understanding Deep Learning is crucial for AI development.\"\n",
    "]\n",
    "titles = [\n",
    "    \"Deep Learning Capabilities\",\n",
    "    \"NLP Techniques for Text Analysis\",\n",
    "    \"Machine Learning Algorithms\",\n",
    "    \"Understanding Deep Learning\"\n",
    "]\n",
    "new_paragraph = \"This is another paragraph discussing deep learning and artificial intelligence.\"\n",
    "\n",
    "# Vectorize paragraphs using TF-IDF\n",
    "tfidf = TfidfVectorizer()\n",
    "vectorized_paragraphs = tfidf.fit_transform(paragraphs)\n",
    "\n",
    "# Encode titles into numerical labels\n",
    "label_encoder = LabelEncoder()\n",
    "encoded_titles = label_encoder.fit_transform(titles)\n",
    "\n",
    "# Train a linear regression model\n",
    "model = LinearRegression()\n",
    "model.fit(vectorized_paragraphs, encoded_titles)\n",
    "\n",
    "# Vectorize the new paragraph\n",
    "vectorized_new_paragraph = tfidf.transform([new_paragraph])\n",
    "\n",
    "# Predict the title for the new paragraph\n",
    "predicted_title = model.predict(vectorized_new_paragraph)\n",
    "\n",
    "# Decode the predicted title back to the original label\n",
    "predicted_title_label = label_encoder.inverse_transform([int(predicted_title)])[0]\n",
    "\n",
    "print(\"New Paragraph:\", new_paragraph)\n",
    "print(\"Predicted Title:\", predicted_title_label)\n"
   ]
  },
  {
   "cell_type": "code",
   "execution_count": null,
   "id": "0ea2ac43",
   "metadata": {},
   "outputs": [],
   "source": []
  }
 ],
 "metadata": {
  "kernelspec": {
   "display_name": "Python 3 (ipykernel)",
   "language": "python",
   "name": "python3"
  },
  "language_info": {
   "codemirror_mode": {
    "name": "ipython",
    "version": 3
   },
   "file_extension": ".py",
   "mimetype": "text/x-python",
   "name": "python",
   "nbconvert_exporter": "python",
   "pygments_lexer": "ipython3",
   "version": "3.11.4"
  }
 },
 "nbformat": 4,
 "nbformat_minor": 5
}
